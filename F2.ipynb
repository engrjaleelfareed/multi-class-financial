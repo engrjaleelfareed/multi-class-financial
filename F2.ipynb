{
 "cells": [
  {
   "cell_type": "code",
   "execution_count": 1,
   "id": "02593290",
   "metadata": {
    "papermill": {
     "duration": 3.037546,
     "end_time": "2022-03-04T09:51:53.420144",
     "exception": false,
     "start_time": "2022-03-04T09:51:50.382598",
     "status": "completed"
    },
    "tags": []
   },
   "outputs": [
    {
     "name": "stderr",
     "output_type": "stream",
     "text": [
      "[nltk_data] Downloading package wordnet to\n",
      "[nltk_data]     C:\\Users\\chamj\\AppData\\Roaming\\nltk_data...\n",
      "[nltk_data]   Package wordnet is already up-to-date!\n"
     ]
    },
    {
     "data": {
      "text/plain": [
       "True"
      ]
     },
     "execution_count": 1,
     "metadata": {},
     "output_type": "execute_result"
    }
   ],
   "source": [
    "##https://www.kaggle.com/datasets/sbhatti/financial-sentiment-analysis\n",
    "\n",
    "import pandas as pd\n",
    "import pandas_profiling\n",
    "import re\n",
    "from nltk.corpus  import stopwords\n",
    "from nltk.stem import WordNetLemmatizer\n",
    "import seaborn as sns\n",
    "import matplotlib.pyplot as plt\n",
    "import warnings\n",
    "warnings.filterwarnings('ignore')\n",
    "from sklearn.feature_extraction.text import CountVectorizer,TfidfVectorizer\n",
    "from wordcloud  import WordCloud\n",
    "from textwrap import wrap\n",
    "from sklearn.model_selection import train_test_split\n",
    "from sklearn.preprocessing import LabelEncoder\n",
    "from sklearn.svm import SVC\n",
    "from sklearn.metrics import confusion_matrix\n",
    "from PIL import Image\n",
    "import nltk\n",
    "nltk.download('wordnet')"
   ]
  },
  {
   "cell_type": "code",
   "execution_count": 2,
   "id": "d964b317",
   "metadata": {
    "papermill": {
     "duration": 0.127384,
     "end_time": "2022-03-04T09:51:53.734610",
     "exception": false,
     "start_time": "2022-03-04T09:51:53.607226",
     "status": "completed"
    },
    "tags": []
   },
   "outputs": [],
   "source": [
    "data=pd.read_csv('data.csv')"
   ]
  },
  {
   "cell_type": "code",
   "execution_count": 3,
   "id": "7fae0440",
   "metadata": {
    "papermill": {
     "duration": 0.070239,
     "end_time": "2022-03-04T09:51:53.868214",
     "exception": false,
     "start_time": "2022-03-04T09:51:53.797975",
     "status": "completed"
    },
    "tags": []
   },
   "outputs": [],
   "source": [
    "df=data.copy()"
   ]
  },
  {
   "cell_type": "code",
   "execution_count": 4,
   "id": "f1432630",
   "metadata": {
    "papermill": {
     "duration": 0.083847,
     "end_time": "2022-03-04T09:51:54.138432",
     "exception": false,
     "start_time": "2022-03-04T09:51:54.054585",
     "status": "completed"
    },
    "tags": []
   },
   "outputs": [
    {
     "data": {
      "text/html": [
       "<div>\n",
       "<style scoped>\n",
       "    .dataframe tbody tr th:only-of-type {\n",
       "        vertical-align: middle;\n",
       "    }\n",
       "\n",
       "    .dataframe tbody tr th {\n",
       "        vertical-align: top;\n",
       "    }\n",
       "\n",
       "    .dataframe thead th {\n",
       "        text-align: right;\n",
       "    }\n",
       "</style>\n",
       "<table border=\"1\" class=\"dataframe\">\n",
       "  <thead>\n",
       "    <tr style=\"text-align: right;\">\n",
       "      <th></th>\n",
       "      <th>Sentence</th>\n",
       "      <th>Sentiment</th>\n",
       "    </tr>\n",
       "  </thead>\n",
       "  <tbody>\n",
       "    <tr>\n",
       "      <th>0</th>\n",
       "      <td>The GeoSolutions technology will leverage Bene...</td>\n",
       "      <td>positive</td>\n",
       "    </tr>\n",
       "    <tr>\n",
       "      <th>1</th>\n",
       "      <td>$ESI on lows, down $1.50 to $2.50 BK a real po...</td>\n",
       "      <td>negative</td>\n",
       "    </tr>\n",
       "    <tr>\n",
       "      <th>2</th>\n",
       "      <td>For the last quarter of 2010 , Componenta 's n...</td>\n",
       "      <td>positive</td>\n",
       "    </tr>\n",
       "    <tr>\n",
       "      <th>3</th>\n",
       "      <td>According to the Finnish-Russian Chamber of Co...</td>\n",
       "      <td>neutral</td>\n",
       "    </tr>\n",
       "    <tr>\n",
       "      <th>4</th>\n",
       "      <td>The Swedish buyout firm has sold its remaining...</td>\n",
       "      <td>neutral</td>\n",
       "    </tr>\n",
       "  </tbody>\n",
       "</table>\n",
       "</div>"
      ],
      "text/plain": [
       "                                            Sentence Sentiment\n",
       "0  The GeoSolutions technology will leverage Bene...  positive\n",
       "1  $ESI on lows, down $1.50 to $2.50 BK a real po...  negative\n",
       "2  For the last quarter of 2010 , Componenta 's n...  positive\n",
       "3  According to the Finnish-Russian Chamber of Co...   neutral\n",
       "4  The Swedish buyout firm has sold its remaining...   neutral"
      ]
     },
     "execution_count": 4,
     "metadata": {},
     "output_type": "execute_result"
    }
   ],
   "source": [
    "df.head()"
   ]
  },
  {
   "cell_type": "code",
   "execution_count": 5,
   "id": "a98284f9",
   "metadata": {
    "papermill": {
     "duration": 0.083968,
     "end_time": "2022-03-04T09:51:54.286498",
     "exception": false,
     "start_time": "2022-03-04T09:51:54.202530",
     "status": "completed"
    },
    "tags": []
   },
   "outputs": [
    {
     "data": {
      "text/plain": [
       "False    5836\n",
       "True        6\n",
       "dtype: int64"
      ]
     },
     "execution_count": 5,
     "metadata": {},
     "output_type": "execute_result"
    }
   ],
   "source": [
    "df.duplicated().value_counts()"
   ]
  },
  {
   "cell_type": "code",
   "execution_count": 6,
   "id": "0fc1368f",
   "metadata": {
    "papermill": {
     "duration": 0.08631,
     "end_time": "2022-03-04T09:51:54.437753",
     "exception": false,
     "start_time": "2022-03-04T09:51:54.351443",
     "status": "completed"
    },
    "tags": []
   },
   "outputs": [
    {
     "name": "stdout",
     "output_type": "stream",
     "text": [
      "<class 'pandas.core.frame.DataFrame'>\n",
      "RangeIndex: 5842 entries, 0 to 5841\n",
      "Data columns (total 2 columns):\n",
      " #   Column     Non-Null Count  Dtype \n",
      "---  ------     --------------  ----- \n",
      " 0   Sentence   5842 non-null   object\n",
      " 1   Sentiment  5842 non-null   object\n",
      "dtypes: object(2)\n",
      "memory usage: 91.4+ KB\n"
     ]
    }
   ],
   "source": [
    "df.info()"
   ]
  },
  {
   "cell_type": "code",
   "execution_count": 7,
   "id": "61c57c5e",
   "metadata": {
    "papermill": {
     "duration": 0.071225,
     "end_time": "2022-03-04T09:51:54.574233",
     "exception": false,
     "start_time": "2022-03-04T09:51:54.503008",
     "status": "completed"
    },
    "tags": []
   },
   "outputs": [],
   "source": [
    "# No null values"
   ]
  },
  {
   "cell_type": "code",
   "execution_count": 8,
   "id": "79914d82",
   "metadata": {
    "papermill": {
     "duration": 0.255394,
     "end_time": "2022-03-04T09:51:54.894605",
     "exception": false,
     "start_time": "2022-03-04T09:51:54.639211",
     "status": "completed"
    },
    "tags": []
   },
   "outputs": [
    {
     "data": {
      "image/png": "[encoded data removed]",
      "text/plain": [
       "<Figure size 432x288 with 1 Axes>"
      ]
     },
     "metadata": {
      "needs_background": "light"
     },
     "output_type": "display_data"
    }
   ],
   "source": [
    "%matplotlib inline\n",
    "sns.countplot(df['Sentiment'])\n",
    "plt.show()"
   ]
  },
  {
   "cell_type": "code",
   "execution_count": 9,
   "id": "27bbda82",
   "metadata": {
    "papermill": {
     "duration": 0.078274,
     "end_time": "2022-03-04T09:51:55.170477",
     "exception": false,
     "start_time": "2022-03-04T09:51:55.092203",
     "status": "completed"
    },
    "tags": []
   },
   "outputs": [
    {
     "data": {
      "text/html": [
       "<div>\n",
       "<style scoped>\n",
       "    .dataframe tbody tr th:only-of-type {\n",
       "        vertical-align: middle;\n",
       "    }\n",
       "\n",
       "    .dataframe tbody tr th {\n",
       "        vertical-align: top;\n",
       "    }\n",
       "\n",
       "    .dataframe thead th {\n",
       "        text-align: right;\n",
       "    }\n",
       "</style>\n",
       "<table border=\"1\" class=\"dataframe\">\n",
       "  <thead>\n",
       "    <tr style=\"text-align: right;\">\n",
       "      <th></th>\n",
       "      <th>Sentence</th>\n",
       "      <th>Sentiment</th>\n",
       "    </tr>\n",
       "  </thead>\n",
       "  <tbody>\n",
       "    <tr>\n",
       "      <th>0</th>\n",
       "      <td>The GeoSolutions technology will leverage Bene...</td>\n",
       "      <td>positive</td>\n",
       "    </tr>\n",
       "    <tr>\n",
       "      <th>1</th>\n",
       "      <td>$ESI on lows, down $1.50 to $2.50 BK a real po...</td>\n",
       "      <td>negative</td>\n",
       "    </tr>\n",
       "    <tr>\n",
       "      <th>2</th>\n",
       "      <td>For the last quarter of 2010 , Componenta 's n...</td>\n",
       "      <td>positive</td>\n",
       "    </tr>\n",
       "    <tr>\n",
       "      <th>3</th>\n",
       "      <td>According to the Finnish-Russian Chamber of Co...</td>\n",
       "      <td>neutral</td>\n",
       "    </tr>\n",
       "    <tr>\n",
       "      <th>4</th>\n",
       "      <td>The Swedish buyout firm has sold its remaining...</td>\n",
       "      <td>neutral</td>\n",
       "    </tr>\n",
       "  </tbody>\n",
       "</table>\n",
       "</div>"
      ],
      "text/plain": [
       "                                            Sentence Sentiment\n",
       "0  The GeoSolutions technology will leverage Bene...  positive\n",
       "1  $ESI on lows, down $1.50 to $2.50 BK a real po...  negative\n",
       "2  For the last quarter of 2010 , Componenta 's n...  positive\n",
       "3  According to the Finnish-Russian Chamber of Co...   neutral\n",
       "4  The Swedish buyout firm has sold its remaining...   neutral"
      ]
     },
     "execution_count": 9,
     "metadata": {},
     "output_type": "execute_result"
    }
   ],
   "source": [
    "df.head()"
   ]
  },
  {
   "cell_type": "code",
   "execution_count": 10,
   "id": "7404053c",
   "metadata": {
    "papermill": {
     "duration": 0.076748,
     "end_time": "2022-03-04T09:51:55.313078",
     "exception": false,
     "start_time": "2022-03-04T09:51:55.236330",
     "status": "completed"
    },
    "tags": []
   },
   "outputs": [
    {
     "data": {
      "text/plain": [
       "(5842, 2)"
      ]
     },
     "execution_count": 10,
     "metadata": {},
     "output_type": "execute_result"
    }
   ],
   "source": [
    "df.shape"
   ]
  },
  {
   "cell_type": "code",
   "execution_count": 11,
   "id": "a39bfd6f",
   "metadata": {
    "papermill": {
     "duration": 0.076112,
     "end_time": "2022-03-04T09:51:55.589653",
     "exception": false,
     "start_time": "2022-03-04T09:51:55.513541",
     "status": "completed"
    },
    "tags": []
   },
   "outputs": [],
   "source": [
    "# defininig a fuction which takes a column of sentences and does preprocessing of texts of sentences\n",
    "def cleaning(df1):\n",
    "    lowered=df1.lower()    # lowering the sentences \n",
    "    removed=re.sub(r'[^a-z]',' ',lowered)  # replacing the non alphabets with space \n",
    "    splitted=removed.split(' ')   # splitting the sentences by spaces\n",
    "    df1= [WordNetLemmatizer().lemmatize(word) for word in splitted if word not in stopwords.words('english')]  # lemmatizing and removing stopwords from list\n",
    "    df1=' '.join(df1) # joining back the words of list\n",
    "    return(df1) # returning the cleaned words\n",
    "        \n",
    "        "
   ]
  },
  {
   "cell_type": "code",
   "execution_count": 12,
   "id": "6d28b284",
   "metadata": {
    "papermill": {
     "duration": 30.182229,
     "end_time": "2022-03-04T09:52:25.837809",
     "exception": false,
     "start_time": "2022-03-04T09:51:55.655580",
     "status": "completed"
    },
    "tags": []
   },
   "outputs": [],
   "source": [
    "df['Sentence']=df['Sentence'].apply(cleaning)"
   ]
  },
  {
   "cell_type": "code",
   "execution_count": 13,
   "id": "6a2fd4f8",
   "metadata": {
    "papermill": {
     "duration": 0.078823,
     "end_time": "2022-03-04T09:52:25.983426",
     "exception": false,
     "start_time": "2022-03-04T09:52:25.904603",
     "status": "completed"
    },
    "tags": []
   },
   "outputs": [
    {
     "data": {
      "text/html": [
       "<div>\n",
       "<style scoped>\n",
       "    .dataframe tbody tr th:only-of-type {\n",
       "        vertical-align: middle;\n",
       "    }\n",
       "\n",
       "    .dataframe tbody tr th {\n",
       "        vertical-align: top;\n",
       "    }\n",
       "\n",
       "    .dataframe thead th {\n",
       "        text-align: right;\n",
       "    }\n",
       "</style>\n",
       "<table border=\"1\" class=\"dataframe\">\n",
       "  <thead>\n",
       "    <tr style=\"text-align: right;\">\n",
       "      <th></th>\n",
       "      <th>Sentence</th>\n",
       "      <th>Sentiment</th>\n",
       "    </tr>\n",
       "  </thead>\n",
       "  <tbody>\n",
       "    <tr>\n",
       "      <th>0</th>\n",
       "      <td>geosolutions technology leverage benefon  gps ...</td>\n",
       "      <td>positive</td>\n",
       "    </tr>\n",
       "    <tr>\n",
       "      <th>1</th>\n",
       "      <td>esi low              bk real possibility</td>\n",
       "      <td>negative</td>\n",
       "    </tr>\n",
       "    <tr>\n",
       "      <th>2</th>\n",
       "      <td>last quarter        componenta  net sale doubl...</td>\n",
       "      <td>positive</td>\n",
       "    </tr>\n",
       "    <tr>\n",
       "      <th>3</th>\n",
       "      <td>according finnish russian chamber commerce   m...</td>\n",
       "      <td>neutral</td>\n",
       "    </tr>\n",
       "    <tr>\n",
       "      <th>4</th>\n",
       "      <td>swedish buyout firm sold remaining      percen...</td>\n",
       "      <td>neutral</td>\n",
       "    </tr>\n",
       "  </tbody>\n",
       "</table>\n",
       "</div>"
      ],
      "text/plain": [
       "                                            Sentence Sentiment\n",
       "0  geosolutions technology leverage benefon  gps ...  positive\n",
       "1           esi low              bk real possibility  negative\n",
       "2  last quarter        componenta  net sale doubl...  positive\n",
       "3  according finnish russian chamber commerce   m...   neutral\n",
       "4  swedish buyout firm sold remaining      percen...   neutral"
      ]
     },
     "execution_count": 13,
     "metadata": {},
     "output_type": "execute_result"
    }
   ],
   "source": [
    "df.head()"
   ]
  },
  {
   "cell_type": "code",
   "execution_count": 14,
   "id": "d8caf821",
   "metadata": {
    "papermill": {
     "duration": 0.075469,
     "end_time": "2022-03-04T09:52:26.125326",
     "exception": false,
     "start_time": "2022-03-04T09:52:26.049857",
     "status": "completed"
    },
    "tags": []
   },
   "outputs": [
    {
     "data": {
      "text/plain": [
       "(5842, 2)"
      ]
     },
     "execution_count": 14,
     "metadata": {},
     "output_type": "execute_result"
    }
   ],
   "source": [
    "df.shape"
   ]
  },
  {
   "cell_type": "code",
   "execution_count": 15,
   "id": "acc972fc",
   "metadata": {},
   "outputs": [],
   "source": [
    "# joining all the sentences.\n",
    "corpus=' '.join(df['Sentence'])"
   ]
  },
  {
   "cell_type": "code",
   "execution_count": 16,
   "id": "a655a86d",
   "metadata": {
    "papermill": {
     "duration": 1.123267,
     "end_time": "2022-03-04T09:52:27.724900",
     "exception": false,
     "start_time": "2022-03-04T09:52:26.601633",
     "status": "completed"
    },
    "tags": []
   },
   "outputs": [],
   "source": [
    "# generating word cloud\n",
    "word_cloud=WordCloud().generate(corpus)"
   ]
  },
  {
   "cell_type": "code",
   "execution_count": 17,
   "id": "629f26db",
   "metadata": {
    "papermill": {
     "duration": 0.195837,
     "end_time": "2022-03-04T09:52:27.986873",
     "exception": false,
     "start_time": "2022-03-04T09:52:27.791036",
     "status": "completed"
    },
    "tags": []
   },
   "outputs": [],
   "source": [
    "img=word_cloud.to_image()"
   ]
  },
  {
   "cell_type": "code",
   "execution_count": 18,
   "id": "213488ce",
   "metadata": {
    "papermill": {
     "duration": 0.09683,
     "end_time": "2022-03-04T09:52:28.149262",
     "exception": false,
     "start_time": "2022-03-04T09:52:28.052432",
     "status": "completed"
    },
    "tags": []
   },
   "outputs": [
    {
     "data": {
      "image/png": "[encoded data removed]",
      "text/plain": [
       "<PIL.Image.Image image mode=RGB size=400x200 at 0x23CDF0D3F70>"
      ]
     },
     "execution_count": 18,
     "metadata": {},
     "output_type": "execute_result"
    }
   ],
   "source": [
    "img"
   ]
  },
  {
   "cell_type": "code",
   "execution_count": 19,
   "id": "91613e65",
   "metadata": {
    "papermill": {
     "duration": 0.421766,
     "end_time": "2022-03-04T09:52:29.350294",
     "exception": false,
     "start_time": "2022-03-04T09:52:28.928528",
     "status": "completed"
    },
    "tags": []
   },
   "outputs": [],
   "source": [
    "\n",
    "tfidf=TfidfVectorizer()\n",
    "data=tfidf.fit_transform(df['Sentence'])\n",
    "df_dtm = pd.DataFrame(data.toarray(), columns=tfidf.get_feature_names())\n"
   ]
  },
  {
   "cell_type": "code",
   "execution_count": 20,
   "id": "d271fa54",
   "metadata": {
    "papermill": {
     "duration": 0.110983,
     "end_time": "2022-03-04T09:52:29.531028",
     "exception": false,
     "start_time": "2022-03-04T09:52:29.420045",
     "status": "completed"
    },
    "tags": []
   },
   "outputs": [
    {
     "data": {
      "text/html": [
       "<div>\n",
       "<style scoped>\n",
       "    .dataframe tbody tr th:only-of-type {\n",
       "        vertical-align: middle;\n",
       "    }\n",
       "\n",
       "    .dataframe tbody tr th {\n",
       "        vertical-align: top;\n",
       "    }\n",
       "\n",
       "    .dataframe thead th {\n",
       "        text-align: right;\n",
       "    }\n",
       "</style>\n",
       "<table border=\"1\" class=\"dataframe\">\n",
       "  <thead>\n",
       "    <tr style=\"text-align: right;\">\n",
       "      <th></th>\n",
       "      <th>aa</th>\n",
       "      <th>aal</th>\n",
       "      <th>aaland</th>\n",
       "      <th>aalto</th>\n",
       "      <th>aaltonen</th>\n",
       "      <th>aapl</th>\n",
       "      <th>aaron</th>\n",
       "      <th>aava</th>\n",
       "      <th>aazhang</th>\n",
       "      <th>ab</th>\n",
       "      <th>...</th>\n",
       "      <th>zone</th>\n",
       "      <th>zoo</th>\n",
       "      <th>zp</th>\n",
       "      <th>zsl</th>\n",
       "      <th>zte</th>\n",
       "      <th>zu</th>\n",
       "      <th>zurich</th>\n",
       "      <th>zwe</th>\n",
       "      <th>zwhthsvfsf</th>\n",
       "      <th>zy</th>\n",
       "    </tr>\n",
       "  </thead>\n",
       "  <tbody>\n",
       "    <tr>\n",
       "      <th>0</th>\n",
       "      <td>0.0</td>\n",
       "      <td>0.0</td>\n",
       "      <td>0.0</td>\n",
       "      <td>0.0</td>\n",
       "      <td>0.0</td>\n",
       "      <td>0.0</td>\n",
       "      <td>0.0</td>\n",
       "      <td>0.0</td>\n",
       "      <td>0.0</td>\n",
       "      <td>0.0</td>\n",
       "      <td>...</td>\n",
       "      <td>0.0</td>\n",
       "      <td>0.0</td>\n",
       "      <td>0.0</td>\n",
       "      <td>0.0</td>\n",
       "      <td>0.0</td>\n",
       "      <td>0.0</td>\n",
       "      <td>0.0</td>\n",
       "      <td>0.0</td>\n",
       "      <td>0.0</td>\n",
       "      <td>0.0</td>\n",
       "    </tr>\n",
       "    <tr>\n",
       "      <th>1</th>\n",
       "      <td>0.0</td>\n",
       "      <td>0.0</td>\n",
       "      <td>0.0</td>\n",
       "      <td>0.0</td>\n",
       "      <td>0.0</td>\n",
       "      <td>0.0</td>\n",
       "      <td>0.0</td>\n",
       "      <td>0.0</td>\n",
       "      <td>0.0</td>\n",
       "      <td>0.0</td>\n",
       "      <td>...</td>\n",
       "      <td>0.0</td>\n",
       "      <td>0.0</td>\n",
       "      <td>0.0</td>\n",
       "      <td>0.0</td>\n",
       "      <td>0.0</td>\n",
       "      <td>0.0</td>\n",
       "      <td>0.0</td>\n",
       "      <td>0.0</td>\n",
       "      <td>0.0</td>\n",
       "      <td>0.0</td>\n",
       "    </tr>\n",
       "    <tr>\n",
       "      <th>2</th>\n",
       "      <td>0.0</td>\n",
       "      <td>0.0</td>\n",
       "      <td>0.0</td>\n",
       "      <td>0.0</td>\n",
       "      <td>0.0</td>\n",
       "      <td>0.0</td>\n",
       "      <td>0.0</td>\n",
       "      <td>0.0</td>\n",
       "      <td>0.0</td>\n",
       "      <td>0.0</td>\n",
       "      <td>...</td>\n",
       "      <td>0.0</td>\n",
       "      <td>0.0</td>\n",
       "      <td>0.0</td>\n",
       "      <td>0.0</td>\n",
       "      <td>0.0</td>\n",
       "      <td>0.0</td>\n",
       "      <td>0.0</td>\n",
       "      <td>0.0</td>\n",
       "      <td>0.0</td>\n",
       "      <td>0.0</td>\n",
       "    </tr>\n",
       "    <tr>\n",
       "      <th>3</th>\n",
       "      <td>0.0</td>\n",
       "      <td>0.0</td>\n",
       "      <td>0.0</td>\n",
       "      <td>0.0</td>\n",
       "      <td>0.0</td>\n",
       "      <td>0.0</td>\n",
       "      <td>0.0</td>\n",
       "      <td>0.0</td>\n",
       "      <td>0.0</td>\n",
       "      <td>0.0</td>\n",
       "      <td>...</td>\n",
       "      <td>0.0</td>\n",
       "      <td>0.0</td>\n",
       "      <td>0.0</td>\n",
       "      <td>0.0</td>\n",
       "      <td>0.0</td>\n",
       "      <td>0.0</td>\n",
       "      <td>0.0</td>\n",
       "      <td>0.0</td>\n",
       "      <td>0.0</td>\n",
       "      <td>0.0</td>\n",
       "    </tr>\n",
       "    <tr>\n",
       "      <th>4</th>\n",
       "      <td>0.0</td>\n",
       "      <td>0.0</td>\n",
       "      <td>0.0</td>\n",
       "      <td>0.0</td>\n",
       "      <td>0.0</td>\n",
       "      <td>0.0</td>\n",
       "      <td>0.0</td>\n",
       "      <td>0.0</td>\n",
       "      <td>0.0</td>\n",
       "      <td>0.0</td>\n",
       "      <td>...</td>\n",
       "      <td>0.0</td>\n",
       "      <td>0.0</td>\n",
       "      <td>0.0</td>\n",
       "      <td>0.0</td>\n",
       "      <td>0.0</td>\n",
       "      <td>0.0</td>\n",
       "      <td>0.0</td>\n",
       "      <td>0.0</td>\n",
       "      <td>0.0</td>\n",
       "      <td>0.0</td>\n",
       "    </tr>\n",
       "  </tbody>\n",
       "</table>\n",
       "<p>5 rows × 9297 columns</p>\n",
       "</div>"
      ],
      "text/plain": [
       "    aa  aal  aaland  aalto  aaltonen  aapl  aaron  aava  aazhang   ab  ...  \\\n",
       "0  0.0  0.0     0.0    0.0       0.0   0.0    0.0   0.0      0.0  0.0  ...   \n",
       "1  0.0  0.0     0.0    0.0       0.0   0.0    0.0   0.0      0.0  0.0  ...   \n",
       "2  0.0  0.0     0.0    0.0       0.0   0.0    0.0   0.0      0.0  0.0  ...   \n",
       "3  0.0  0.0     0.0    0.0       0.0   0.0    0.0   0.0      0.0  0.0  ...   \n",
       "4  0.0  0.0     0.0    0.0       0.0   0.0    0.0   0.0      0.0  0.0  ...   \n",
       "\n",
       "   zone  zoo   zp  zsl  zte   zu  zurich  zwe  zwhthsvfsf   zy  \n",
       "0   0.0  0.0  0.0  0.0  0.0  0.0     0.0  0.0         0.0  0.0  \n",
       "1   0.0  0.0  0.0  0.0  0.0  0.0     0.0  0.0         0.0  0.0  \n",
       "2   0.0  0.0  0.0  0.0  0.0  0.0     0.0  0.0         0.0  0.0  \n",
       "3   0.0  0.0  0.0  0.0  0.0  0.0     0.0  0.0         0.0  0.0  \n",
       "4   0.0  0.0  0.0  0.0  0.0  0.0     0.0  0.0         0.0  0.0  \n",
       "\n",
       "[5 rows x 9297 columns]"
      ]
     },
     "execution_count": 20,
     "metadata": {},
     "output_type": "execute_result"
    }
   ],
   "source": [
    "df_dtm.head()"
   ]
  },
  {
   "cell_type": "code",
   "execution_count": 21,
   "id": "ce3868fa",
   "metadata": {
    "papermill": {
     "duration": 0.078779,
     "end_time": "2022-03-04T09:52:29.679387",
     "exception": false,
     "start_time": "2022-03-04T09:52:29.600608",
     "status": "completed"
    },
    "tags": []
   },
   "outputs": [
    {
     "data": {
      "text/plain": [
       "(5842, 9297)"
      ]
     },
     "execution_count": 21,
     "metadata": {},
     "output_type": "execute_result"
    }
   ],
   "source": [
    "df_dtm.shape"
   ]
  },
  {
   "cell_type": "code",
   "execution_count": 22,
   "id": "d03a5949",
   "metadata": {
    "papermill": {
     "duration": 0.080378,
     "end_time": "2022-03-04T09:52:29.829670",
     "exception": false,
     "start_time": "2022-03-04T09:52:29.749292",
     "status": "completed"
    },
    "tags": []
   },
   "outputs": [
    {
     "data": {
      "text/plain": [
       "(5842, 2)"
      ]
     },
     "execution_count": 22,
     "metadata": {},
     "output_type": "execute_result"
    }
   ],
   "source": [
    "df.shape"
   ]
  },
  {
   "cell_type": "code",
   "execution_count": 23,
   "id": "c6f7279e",
   "metadata": {
    "papermill": {
     "duration": 0.079527,
     "end_time": "2022-03-04T09:52:29.980652",
     "exception": false,
     "start_time": "2022-03-04T09:52:29.901125",
     "status": "completed"
    },
    "tags": []
   },
   "outputs": [
    {
     "data": {
      "text/plain": [
       "RangeIndex(start=0, stop=5842, step=1)"
      ]
     },
     "execution_count": 23,
     "metadata": {},
     "output_type": "execute_result"
    }
   ],
   "source": [
    "df.index"
   ]
  },
  {
   "cell_type": "code",
   "execution_count": 24,
   "id": "ac1fb171",
   "metadata": {
    "papermill": {
     "duration": 0.080746,
     "end_time": "2022-03-04T09:52:30.132959",
     "exception": false,
     "start_time": "2022-03-04T09:52:30.052213",
     "status": "completed"
    },
    "tags": []
   },
   "outputs": [],
   "source": [
    "df_dtm[\"Sentiment\"]=df['Sentiment']"
   ]
  },
  {
   "cell_type": "code",
   "execution_count": 25,
   "id": "d2599833",
   "metadata": {
    "papermill": {
     "duration": 0.084076,
     "end_time": "2022-03-04T09:52:30.573716",
     "exception": false,
     "start_time": "2022-03-04T09:52:30.489640",
     "status": "completed"
    },
    "tags": []
   },
   "outputs": [],
   "source": [
    "le=LabelEncoder()\n",
    "df_dtm['Sentiment']=le.fit_transform(df_dtm['Sentiment'])"
   ]
  },
  {
   "cell_type": "code",
   "execution_count": 26,
   "id": "b5d30d92",
   "metadata": {
    "papermill": {
     "duration": 0.111717,
     "end_time": "2022-03-04T09:52:30.757471",
     "exception": false,
     "start_time": "2022-03-04T09:52:30.645754",
     "status": "completed"
    },
    "tags": []
   },
   "outputs": [
    {
     "data": {
      "text/html": [
       "<div>\n",
       "<style scoped>\n",
       "    .dataframe tbody tr th:only-of-type {\n",
       "        vertical-align: middle;\n",
       "    }\n",
       "\n",
       "    .dataframe tbody tr th {\n",
       "        vertical-align: top;\n",
       "    }\n",
       "\n",
       "    .dataframe thead th {\n",
       "        text-align: right;\n",
       "    }\n",
       "</style>\n",
       "<table border=\"1\" class=\"dataframe\">\n",
       "  <thead>\n",
       "    <tr style=\"text-align: right;\">\n",
       "      <th></th>\n",
       "      <th>aa</th>\n",
       "      <th>aal</th>\n",
       "      <th>aaland</th>\n",
       "      <th>aalto</th>\n",
       "      <th>aaltonen</th>\n",
       "      <th>aapl</th>\n",
       "      <th>aaron</th>\n",
       "      <th>aava</th>\n",
       "      <th>aazhang</th>\n",
       "      <th>ab</th>\n",
       "      <th>...</th>\n",
       "      <th>zoo</th>\n",
       "      <th>zp</th>\n",
       "      <th>zsl</th>\n",
       "      <th>zte</th>\n",
       "      <th>zu</th>\n",
       "      <th>zurich</th>\n",
       "      <th>zwe</th>\n",
       "      <th>zwhthsvfsf</th>\n",
       "      <th>zy</th>\n",
       "      <th>Sentiment</th>\n",
       "    </tr>\n",
       "  </thead>\n",
       "  <tbody>\n",
       "    <tr>\n",
       "      <th>0</th>\n",
       "      <td>0.0</td>\n",
       "      <td>0.0</td>\n",
       "      <td>0.0</td>\n",
       "      <td>0.0</td>\n",
       "      <td>0.0</td>\n",
       "      <td>0.0</td>\n",
       "      <td>0.0</td>\n",
       "      <td>0.0</td>\n",
       "      <td>0.0</td>\n",
       "      <td>0.0</td>\n",
       "      <td>...</td>\n",
       "      <td>0.0</td>\n",
       "      <td>0.0</td>\n",
       "      <td>0.0</td>\n",
       "      <td>0.0</td>\n",
       "      <td>0.0</td>\n",
       "      <td>0.0</td>\n",
       "      <td>0.0</td>\n",
       "      <td>0.0</td>\n",
       "      <td>0.0</td>\n",
       "      <td>2</td>\n",
       "    </tr>\n",
       "    <tr>\n",
       "      <th>1</th>\n",
       "      <td>0.0</td>\n",
       "      <td>0.0</td>\n",
       "      <td>0.0</td>\n",
       "      <td>0.0</td>\n",
       "      <td>0.0</td>\n",
       "      <td>0.0</td>\n",
       "      <td>0.0</td>\n",
       "      <td>0.0</td>\n",
       "      <td>0.0</td>\n",
       "      <td>0.0</td>\n",
       "      <td>...</td>\n",
       "      <td>0.0</td>\n",
       "      <td>0.0</td>\n",
       "      <td>0.0</td>\n",
       "      <td>0.0</td>\n",
       "      <td>0.0</td>\n",
       "      <td>0.0</td>\n",
       "      <td>0.0</td>\n",
       "      <td>0.0</td>\n",
       "      <td>0.0</td>\n",
       "      <td>0</td>\n",
       "    </tr>\n",
       "    <tr>\n",
       "      <th>2</th>\n",
       "      <td>0.0</td>\n",
       "      <td>0.0</td>\n",
       "      <td>0.0</td>\n",
       "      <td>0.0</td>\n",
       "      <td>0.0</td>\n",
       "      <td>0.0</td>\n",
       "      <td>0.0</td>\n",
       "      <td>0.0</td>\n",
       "      <td>0.0</td>\n",
       "      <td>0.0</td>\n",
       "      <td>...</td>\n",
       "      <td>0.0</td>\n",
       "      <td>0.0</td>\n",
       "      <td>0.0</td>\n",
       "      <td>0.0</td>\n",
       "      <td>0.0</td>\n",
       "      <td>0.0</td>\n",
       "      <td>0.0</td>\n",
       "      <td>0.0</td>\n",
       "      <td>0.0</td>\n",
       "      <td>2</td>\n",
       "    </tr>\n",
       "    <tr>\n",
       "      <th>3</th>\n",
       "      <td>0.0</td>\n",
       "      <td>0.0</td>\n",
       "      <td>0.0</td>\n",
       "      <td>0.0</td>\n",
       "      <td>0.0</td>\n",
       "      <td>0.0</td>\n",
       "      <td>0.0</td>\n",
       "      <td>0.0</td>\n",
       "      <td>0.0</td>\n",
       "      <td>0.0</td>\n",
       "      <td>...</td>\n",
       "      <td>0.0</td>\n",
       "      <td>0.0</td>\n",
       "      <td>0.0</td>\n",
       "      <td>0.0</td>\n",
       "      <td>0.0</td>\n",
       "      <td>0.0</td>\n",
       "      <td>0.0</td>\n",
       "      <td>0.0</td>\n",
       "      <td>0.0</td>\n",
       "      <td>1</td>\n",
       "    </tr>\n",
       "    <tr>\n",
       "      <th>4</th>\n",
       "      <td>0.0</td>\n",
       "      <td>0.0</td>\n",
       "      <td>0.0</td>\n",
       "      <td>0.0</td>\n",
       "      <td>0.0</td>\n",
       "      <td>0.0</td>\n",
       "      <td>0.0</td>\n",
       "      <td>0.0</td>\n",
       "      <td>0.0</td>\n",
       "      <td>0.0</td>\n",
       "      <td>...</td>\n",
       "      <td>0.0</td>\n",
       "      <td>0.0</td>\n",
       "      <td>0.0</td>\n",
       "      <td>0.0</td>\n",
       "      <td>0.0</td>\n",
       "      <td>0.0</td>\n",
       "      <td>0.0</td>\n",
       "      <td>0.0</td>\n",
       "      <td>0.0</td>\n",
       "      <td>1</td>\n",
       "    </tr>\n",
       "  </tbody>\n",
       "</table>\n",
       "<p>5 rows × 9298 columns</p>\n",
       "</div>"
      ],
      "text/plain": [
       "    aa  aal  aaland  aalto  aaltonen  aapl  aaron  aava  aazhang   ab  ...  \\\n",
       "0  0.0  0.0     0.0    0.0       0.0   0.0    0.0   0.0      0.0  0.0  ...   \n",
       "1  0.0  0.0     0.0    0.0       0.0   0.0    0.0   0.0      0.0  0.0  ...   \n",
       "2  0.0  0.0     0.0    0.0       0.0   0.0    0.0   0.0      0.0  0.0  ...   \n",
       "3  0.0  0.0     0.0    0.0       0.0   0.0    0.0   0.0      0.0  0.0  ...   \n",
       "4  0.0  0.0     0.0    0.0       0.0   0.0    0.0   0.0      0.0  0.0  ...   \n",
       "\n",
       "   zoo   zp  zsl  zte   zu  zurich  zwe  zwhthsvfsf   zy  Sentiment  \n",
       "0  0.0  0.0  0.0  0.0  0.0     0.0  0.0         0.0  0.0          2  \n",
       "1  0.0  0.0  0.0  0.0  0.0     0.0  0.0         0.0  0.0          0  \n",
       "2  0.0  0.0  0.0  0.0  0.0     0.0  0.0         0.0  0.0          2  \n",
       "3  0.0  0.0  0.0  0.0  0.0     0.0  0.0         0.0  0.0          1  \n",
       "4  0.0  0.0  0.0  0.0  0.0     0.0  0.0         0.0  0.0          1  \n",
       "\n",
       "[5 rows x 9298 columns]"
      ]
     },
     "execution_count": 26,
     "metadata": {},
     "output_type": "execute_result"
    }
   ],
   "source": [
    "df_dtm.head()"
   ]
  },
  {
   "cell_type": "code",
   "execution_count": 27,
   "id": "92d97109",
   "metadata": {
    "papermill": {
     "duration": 0.07934,
     "end_time": "2022-03-04T09:52:30.908533",
     "exception": false,
     "start_time": "2022-03-04T09:52:30.829193",
     "status": "completed"
    },
    "tags": []
   },
   "outputs": [],
   "source": [
    "le_name_mapping = dict(zip(le.classes_, le.transform(le.classes_)))"
   ]
  },
  {
   "cell_type": "code",
   "execution_count": 28,
   "id": "a99b40b6",
   "metadata": {
    "papermill": {
     "duration": 0.084517,
     "end_time": "2022-03-04T09:52:31.065542",
     "exception": false,
     "start_time": "2022-03-04T09:52:30.981025",
     "status": "completed"
    },
    "tags": []
   },
   "outputs": [
    {
     "data": {
      "text/plain": [
       "{'negative': 0, 'neutral': 1, 'positive': 2}"
      ]
     },
     "execution_count": 28,
     "metadata": {},
     "output_type": "execute_result"
    }
   ],
   "source": [
    "le_name_mapping #to know about how the mapping is done while label encoding"
   ]
  },
  {
   "cell_type": "code",
   "execution_count": 35,
   "id": "bb70c285",
   "metadata": {
    "papermill": {
     "duration": 0.463747,
     "end_time": "2022-03-04T09:52:31.748009",
     "exception": false,
     "start_time": "2022-03-04T09:52:31.284262",
     "status": "completed"
    },
    "tags": []
   },
   "outputs": [],
   "source": [
    "X_train, X_test, y_train, y_test = train_test_split(df_dtm.drop('Sentiment',axis=1),df_dtm['Sentiment'],test_size=0.3,stratify=df_dtm['Sentiment'])"
   ]
  },
  {
   "cell_type": "code",
   "execution_count": 36,
   "id": "99fc2736",
   "metadata": {
    "papermill": {
     "duration": 0.113165,
     "end_time": "2022-03-04T09:52:31.934776",
     "exception": false,
     "start_time": "2022-03-04T09:52:31.821611",
     "status": "completed"
    },
    "tags": []
   },
   "outputs": [
    {
     "data": {
      "text/html": [
       "<div>\n",
       "<style scoped>\n",
       "    .dataframe tbody tr th:only-of-type {\n",
       "        vertical-align: middle;\n",
       "    }\n",
       "\n",
       "    .dataframe tbody tr th {\n",
       "        vertical-align: top;\n",
       "    }\n",
       "\n",
       "    .dataframe thead th {\n",
       "        text-align: right;\n",
       "    }\n",
       "</style>\n",
       "<table border=\"1\" class=\"dataframe\">\n",
       "  <thead>\n",
       "    <tr style=\"text-align: right;\">\n",
       "      <th></th>\n",
       "      <th>aa</th>\n",
       "      <th>aal</th>\n",
       "      <th>aaland</th>\n",
       "      <th>aalto</th>\n",
       "      <th>aaltonen</th>\n",
       "      <th>aapl</th>\n",
       "      <th>aaron</th>\n",
       "      <th>aava</th>\n",
       "      <th>aazhang</th>\n",
       "      <th>ab</th>\n",
       "      <th>...</th>\n",
       "      <th>zone</th>\n",
       "      <th>zoo</th>\n",
       "      <th>zp</th>\n",
       "      <th>zsl</th>\n",
       "      <th>zte</th>\n",
       "      <th>zu</th>\n",
       "      <th>zurich</th>\n",
       "      <th>zwe</th>\n",
       "      <th>zwhthsvfsf</th>\n",
       "      <th>zy</th>\n",
       "    </tr>\n",
       "  </thead>\n",
       "  <tbody>\n",
       "    <tr>\n",
       "      <th>932</th>\n",
       "      <td>0.0</td>\n",
       "      <td>0.0</td>\n",
       "      <td>0.0</td>\n",
       "      <td>0.0</td>\n",
       "      <td>0.0</td>\n",
       "      <td>0.000000</td>\n",
       "      <td>0.0</td>\n",
       "      <td>0.0</td>\n",
       "      <td>0.0</td>\n",
       "      <td>0.000000</td>\n",
       "      <td>...</td>\n",
       "      <td>0.000000</td>\n",
       "      <td>0.0</td>\n",
       "      <td>0.0</td>\n",
       "      <td>0.0</td>\n",
       "      <td>0.0</td>\n",
       "      <td>0.0</td>\n",
       "      <td>0.0</td>\n",
       "      <td>0.0</td>\n",
       "      <td>0.0</td>\n",
       "      <td>0.0</td>\n",
       "    </tr>\n",
       "    <tr>\n",
       "      <th>2571</th>\n",
       "      <td>0.0</td>\n",
       "      <td>0.0</td>\n",
       "      <td>0.0</td>\n",
       "      <td>0.0</td>\n",
       "      <td>0.0</td>\n",
       "      <td>0.000000</td>\n",
       "      <td>0.0</td>\n",
       "      <td>0.0</td>\n",
       "      <td>0.0</td>\n",
       "      <td>0.000000</td>\n",
       "      <td>...</td>\n",
       "      <td>0.000000</td>\n",
       "      <td>0.0</td>\n",
       "      <td>0.0</td>\n",
       "      <td>0.0</td>\n",
       "      <td>0.0</td>\n",
       "      <td>0.0</td>\n",
       "      <td>0.0</td>\n",
       "      <td>0.0</td>\n",
       "      <td>0.0</td>\n",
       "      <td>0.0</td>\n",
       "    </tr>\n",
       "    <tr>\n",
       "      <th>30</th>\n",
       "      <td>0.0</td>\n",
       "      <td>0.0</td>\n",
       "      <td>0.0</td>\n",
       "      <td>0.0</td>\n",
       "      <td>0.0</td>\n",
       "      <td>0.000000</td>\n",
       "      <td>0.0</td>\n",
       "      <td>0.0</td>\n",
       "      <td>0.0</td>\n",
       "      <td>0.184329</td>\n",
       "      <td>...</td>\n",
       "      <td>0.000000</td>\n",
       "      <td>0.0</td>\n",
       "      <td>0.0</td>\n",
       "      <td>0.0</td>\n",
       "      <td>0.0</td>\n",
       "      <td>0.0</td>\n",
       "      <td>0.0</td>\n",
       "      <td>0.0</td>\n",
       "      <td>0.0</td>\n",
       "      <td>0.0</td>\n",
       "    </tr>\n",
       "    <tr>\n",
       "      <th>4457</th>\n",
       "      <td>0.0</td>\n",
       "      <td>0.0</td>\n",
       "      <td>0.0</td>\n",
       "      <td>0.0</td>\n",
       "      <td>0.0</td>\n",
       "      <td>0.000000</td>\n",
       "      <td>0.0</td>\n",
       "      <td>0.0</td>\n",
       "      <td>0.0</td>\n",
       "      <td>0.000000</td>\n",
       "      <td>...</td>\n",
       "      <td>0.000000</td>\n",
       "      <td>0.0</td>\n",
       "      <td>0.0</td>\n",
       "      <td>0.0</td>\n",
       "      <td>0.0</td>\n",
       "      <td>0.0</td>\n",
       "      <td>0.0</td>\n",
       "      <td>0.0</td>\n",
       "      <td>0.0</td>\n",
       "      <td>0.0</td>\n",
       "    </tr>\n",
       "    <tr>\n",
       "      <th>1053</th>\n",
       "      <td>0.0</td>\n",
       "      <td>0.0</td>\n",
       "      <td>0.0</td>\n",
       "      <td>0.0</td>\n",
       "      <td>0.0</td>\n",
       "      <td>0.000000</td>\n",
       "      <td>0.0</td>\n",
       "      <td>0.0</td>\n",
       "      <td>0.0</td>\n",
       "      <td>0.000000</td>\n",
       "      <td>...</td>\n",
       "      <td>0.000000</td>\n",
       "      <td>0.0</td>\n",
       "      <td>0.0</td>\n",
       "      <td>0.0</td>\n",
       "      <td>0.0</td>\n",
       "      <td>0.0</td>\n",
       "      <td>0.0</td>\n",
       "      <td>0.0</td>\n",
       "      <td>0.0</td>\n",
       "      <td>0.0</td>\n",
       "    </tr>\n",
       "    <tr>\n",
       "      <th>...</th>\n",
       "      <td>...</td>\n",
       "      <td>...</td>\n",
       "      <td>...</td>\n",
       "      <td>...</td>\n",
       "      <td>...</td>\n",
       "      <td>...</td>\n",
       "      <td>...</td>\n",
       "      <td>...</td>\n",
       "      <td>...</td>\n",
       "      <td>...</td>\n",
       "      <td>...</td>\n",
       "      <td>...</td>\n",
       "      <td>...</td>\n",
       "      <td>...</td>\n",
       "      <td>...</td>\n",
       "      <td>...</td>\n",
       "      <td>...</td>\n",
       "      <td>...</td>\n",
       "      <td>...</td>\n",
       "      <td>...</td>\n",
       "      <td>...</td>\n",
       "    </tr>\n",
       "    <tr>\n",
       "      <th>3785</th>\n",
       "      <td>0.0</td>\n",
       "      <td>0.0</td>\n",
       "      <td>0.0</td>\n",
       "      <td>0.0</td>\n",
       "      <td>0.0</td>\n",
       "      <td>0.000000</td>\n",
       "      <td>0.0</td>\n",
       "      <td>0.0</td>\n",
       "      <td>0.0</td>\n",
       "      <td>0.000000</td>\n",
       "      <td>...</td>\n",
       "      <td>0.000000</td>\n",
       "      <td>0.0</td>\n",
       "      <td>0.0</td>\n",
       "      <td>0.0</td>\n",
       "      <td>0.0</td>\n",
       "      <td>0.0</td>\n",
       "      <td>0.0</td>\n",
       "      <td>0.0</td>\n",
       "      <td>0.0</td>\n",
       "      <td>0.0</td>\n",
       "    </tr>\n",
       "    <tr>\n",
       "      <th>2567</th>\n",
       "      <td>0.0</td>\n",
       "      <td>0.0</td>\n",
       "      <td>0.0</td>\n",
       "      <td>0.0</td>\n",
       "      <td>0.0</td>\n",
       "      <td>0.000000</td>\n",
       "      <td>0.0</td>\n",
       "      <td>0.0</td>\n",
       "      <td>0.0</td>\n",
       "      <td>0.000000</td>\n",
       "      <td>...</td>\n",
       "      <td>0.000000</td>\n",
       "      <td>0.0</td>\n",
       "      <td>0.0</td>\n",
       "      <td>0.0</td>\n",
       "      <td>0.0</td>\n",
       "      <td>0.0</td>\n",
       "      <td>0.0</td>\n",
       "      <td>0.0</td>\n",
       "      <td>0.0</td>\n",
       "      <td>0.0</td>\n",
       "    </tr>\n",
       "    <tr>\n",
       "      <th>2848</th>\n",
       "      <td>0.0</td>\n",
       "      <td>0.0</td>\n",
       "      <td>0.0</td>\n",
       "      <td>0.0</td>\n",
       "      <td>0.0</td>\n",
       "      <td>0.262217</td>\n",
       "      <td>0.0</td>\n",
       "      <td>0.0</td>\n",
       "      <td>0.0</td>\n",
       "      <td>0.000000</td>\n",
       "      <td>...</td>\n",
       "      <td>0.357075</td>\n",
       "      <td>0.0</td>\n",
       "      <td>0.0</td>\n",
       "      <td>0.0</td>\n",
       "      <td>0.0</td>\n",
       "      <td>0.0</td>\n",
       "      <td>0.0</td>\n",
       "      <td>0.0</td>\n",
       "      <td>0.0</td>\n",
       "      <td>0.0</td>\n",
       "    </tr>\n",
       "    <tr>\n",
       "      <th>3937</th>\n",
       "      <td>0.0</td>\n",
       "      <td>0.0</td>\n",
       "      <td>0.0</td>\n",
       "      <td>0.0</td>\n",
       "      <td>0.0</td>\n",
       "      <td>0.000000</td>\n",
       "      <td>0.0</td>\n",
       "      <td>0.0</td>\n",
       "      <td>0.0</td>\n",
       "      <td>0.000000</td>\n",
       "      <td>...</td>\n",
       "      <td>0.000000</td>\n",
       "      <td>0.0</td>\n",
       "      <td>0.0</td>\n",
       "      <td>0.0</td>\n",
       "      <td>0.0</td>\n",
       "      <td>0.0</td>\n",
       "      <td>0.0</td>\n",
       "      <td>0.0</td>\n",
       "      <td>0.0</td>\n",
       "      <td>0.0</td>\n",
       "    </tr>\n",
       "    <tr>\n",
       "      <th>809</th>\n",
       "      <td>0.0</td>\n",
       "      <td>0.0</td>\n",
       "      <td>0.0</td>\n",
       "      <td>0.0</td>\n",
       "      <td>0.0</td>\n",
       "      <td>0.000000</td>\n",
       "      <td>0.0</td>\n",
       "      <td>0.0</td>\n",
       "      <td>0.0</td>\n",
       "      <td>0.000000</td>\n",
       "      <td>...</td>\n",
       "      <td>0.000000</td>\n",
       "      <td>0.0</td>\n",
       "      <td>0.0</td>\n",
       "      <td>0.0</td>\n",
       "      <td>0.0</td>\n",
       "      <td>0.0</td>\n",
       "      <td>0.0</td>\n",
       "      <td>0.0</td>\n",
       "      <td>0.0</td>\n",
       "      <td>0.0</td>\n",
       "    </tr>\n",
       "  </tbody>\n",
       "</table>\n",
       "<p>4089 rows × 9297 columns</p>\n",
       "</div>"
      ],
      "text/plain": [
       "       aa  aal  aaland  aalto  aaltonen      aapl  aaron  aava  aazhang  \\\n",
       "932   0.0  0.0     0.0    0.0       0.0  0.000000    0.0   0.0      0.0   \n",
       "2571  0.0  0.0     0.0    0.0       0.0  0.000000    0.0   0.0      0.0   \n",
       "30    0.0  0.0     0.0    0.0       0.0  0.000000    0.0   0.0      0.0   \n",
       "4457  0.0  0.0     0.0    0.0       0.0  0.000000    0.0   0.0      0.0   \n",
       "1053  0.0  0.0     0.0    0.0       0.0  0.000000    0.0   0.0      0.0   \n",
       "...   ...  ...     ...    ...       ...       ...    ...   ...      ...   \n",
       "3785  0.0  0.0     0.0    0.0       0.0  0.000000    0.0   0.0      0.0   \n",
       "2567  0.0  0.0     0.0    0.0       0.0  0.000000    0.0   0.0      0.0   \n",
       "2848  0.0  0.0     0.0    0.0       0.0  0.262217    0.0   0.0      0.0   \n",
       "3937  0.0  0.0     0.0    0.0       0.0  0.000000    0.0   0.0      0.0   \n",
       "809   0.0  0.0     0.0    0.0       0.0  0.000000    0.0   0.0      0.0   \n",
       "\n",
       "            ab  ...      zone  zoo   zp  zsl  zte   zu  zurich  zwe  \\\n",
       "932   0.000000  ...  0.000000  0.0  0.0  0.0  0.0  0.0     0.0  0.0   \n",
       "2571  0.000000  ...  0.000000  0.0  0.0  0.0  0.0  0.0     0.0  0.0   \n",
       "30    0.184329  ...  0.000000  0.0  0.0  0.0  0.0  0.0     0.0  0.0   \n",
       "4457  0.000000  ...  0.000000  0.0  0.0  0.0  0.0  0.0     0.0  0.0   \n",
       "1053  0.000000  ...  0.000000  0.0  0.0  0.0  0.0  0.0     0.0  0.0   \n",
       "...        ...  ...       ...  ...  ...  ...  ...  ...     ...  ...   \n",
       "3785  0.000000  ...  0.000000  0.0  0.0  0.0  0.0  0.0     0.0  0.0   \n",
       "2567  0.000000  ...  0.000000  0.0  0.0  0.0  0.0  0.0     0.0  0.0   \n",
       "2848  0.000000  ...  0.357075  0.0  0.0  0.0  0.0  0.0     0.0  0.0   \n",
       "3937  0.000000  ...  0.000000  0.0  0.0  0.0  0.0  0.0     0.0  0.0   \n",
       "809   0.000000  ...  0.000000  0.0  0.0  0.0  0.0  0.0     0.0  0.0   \n",
       "\n",
       "      zwhthsvfsf   zy  \n",
       "932          0.0  0.0  \n",
       "2571         0.0  0.0  \n",
       "30           0.0  0.0  \n",
       "4457         0.0  0.0  \n",
       "1053         0.0  0.0  \n",
       "...          ...  ...  \n",
       "3785         0.0  0.0  \n",
       "2567         0.0  0.0  \n",
       "2848         0.0  0.0  \n",
       "3937         0.0  0.0  \n",
       "809          0.0  0.0  \n",
       "\n",
       "[4089 rows x 9297 columns]"
      ]
     },
     "execution_count": 36,
     "metadata": {},
     "output_type": "execute_result"
    }
   ],
   "source": [
    "X_train"
   ]
  },
  {
   "cell_type": "code",
   "execution_count": 37,
   "id": "f2d7bf9b",
   "metadata": {
    "papermill": {
     "duration": 0.124478,
     "end_time": "2022-03-04T09:52:32.133243",
     "exception": false,
     "start_time": "2022-03-04T09:52:32.008765",
     "status": "completed"
    },
    "tags": []
   },
   "outputs": [
    {
     "data": {
      "text/html": [
       "<div>\n",
       "<style scoped>\n",
       "    .dataframe tbody tr th:only-of-type {\n",
       "        vertical-align: middle;\n",
       "    }\n",
       "\n",
       "    .dataframe tbody tr th {\n",
       "        vertical-align: top;\n",
       "    }\n",
       "\n",
       "    .dataframe thead th {\n",
       "        text-align: right;\n",
       "    }\n",
       "</style>\n",
       "<table border=\"1\" class=\"dataframe\">\n",
       "  <thead>\n",
       "    <tr style=\"text-align: right;\">\n",
       "      <th></th>\n",
       "      <th>aa</th>\n",
       "      <th>aal</th>\n",
       "      <th>aaland</th>\n",
       "      <th>aalto</th>\n",
       "      <th>aaltonen</th>\n",
       "      <th>aapl</th>\n",
       "      <th>aaron</th>\n",
       "      <th>aava</th>\n",
       "      <th>aazhang</th>\n",
       "      <th>ab</th>\n",
       "      <th>...</th>\n",
       "      <th>zone</th>\n",
       "      <th>zoo</th>\n",
       "      <th>zp</th>\n",
       "      <th>zsl</th>\n",
       "      <th>zte</th>\n",
       "      <th>zu</th>\n",
       "      <th>zurich</th>\n",
       "      <th>zwe</th>\n",
       "      <th>zwhthsvfsf</th>\n",
       "      <th>zy</th>\n",
       "    </tr>\n",
       "  </thead>\n",
       "  <tbody>\n",
       "    <tr>\n",
       "      <th>2729</th>\n",
       "      <td>0.0</td>\n",
       "      <td>0.0</td>\n",
       "      <td>0.0</td>\n",
       "      <td>0.0</td>\n",
       "      <td>0.0</td>\n",
       "      <td>0.0</td>\n",
       "      <td>0.0</td>\n",
       "      <td>0.0</td>\n",
       "      <td>0.0</td>\n",
       "      <td>0.0</td>\n",
       "      <td>...</td>\n",
       "      <td>0.0</td>\n",
       "      <td>0.0</td>\n",
       "      <td>0.0</td>\n",
       "      <td>0.0</td>\n",
       "      <td>0.0</td>\n",
       "      <td>0.0</td>\n",
       "      <td>0.0</td>\n",
       "      <td>0.0</td>\n",
       "      <td>0.0</td>\n",
       "      <td>0.0</td>\n",
       "    </tr>\n",
       "    <tr>\n",
       "      <th>2563</th>\n",
       "      <td>0.0</td>\n",
       "      <td>0.0</td>\n",
       "      <td>0.0</td>\n",
       "      <td>0.0</td>\n",
       "      <td>0.0</td>\n",
       "      <td>0.0</td>\n",
       "      <td>0.0</td>\n",
       "      <td>0.0</td>\n",
       "      <td>0.0</td>\n",
       "      <td>0.0</td>\n",
       "      <td>...</td>\n",
       "      <td>0.0</td>\n",
       "      <td>0.0</td>\n",
       "      <td>0.0</td>\n",
       "      <td>0.0</td>\n",
       "      <td>0.0</td>\n",
       "      <td>0.0</td>\n",
       "      <td>0.0</td>\n",
       "      <td>0.0</td>\n",
       "      <td>0.0</td>\n",
       "      <td>0.0</td>\n",
       "    </tr>\n",
       "    <tr>\n",
       "      <th>1173</th>\n",
       "      <td>0.0</td>\n",
       "      <td>0.0</td>\n",
       "      <td>0.0</td>\n",
       "      <td>0.0</td>\n",
       "      <td>0.0</td>\n",
       "      <td>0.0</td>\n",
       "      <td>0.0</td>\n",
       "      <td>0.0</td>\n",
       "      <td>0.0</td>\n",
       "      <td>0.0</td>\n",
       "      <td>...</td>\n",
       "      <td>0.0</td>\n",
       "      <td>0.0</td>\n",
       "      <td>0.0</td>\n",
       "      <td>0.0</td>\n",
       "      <td>0.0</td>\n",
       "      <td>0.0</td>\n",
       "      <td>0.0</td>\n",
       "      <td>0.0</td>\n",
       "      <td>0.0</td>\n",
       "      <td>0.0</td>\n",
       "    </tr>\n",
       "    <tr>\n",
       "      <th>170</th>\n",
       "      <td>0.0</td>\n",
       "      <td>0.0</td>\n",
       "      <td>0.0</td>\n",
       "      <td>0.0</td>\n",
       "      <td>0.0</td>\n",
       "      <td>0.0</td>\n",
       "      <td>0.0</td>\n",
       "      <td>0.0</td>\n",
       "      <td>0.0</td>\n",
       "      <td>0.0</td>\n",
       "      <td>...</td>\n",
       "      <td>0.0</td>\n",
       "      <td>0.0</td>\n",
       "      <td>0.0</td>\n",
       "      <td>0.0</td>\n",
       "      <td>0.0</td>\n",
       "      <td>0.0</td>\n",
       "      <td>0.0</td>\n",
       "      <td>0.0</td>\n",
       "      <td>0.0</td>\n",
       "      <td>0.0</td>\n",
       "    </tr>\n",
       "    <tr>\n",
       "      <th>2548</th>\n",
       "      <td>0.0</td>\n",
       "      <td>0.0</td>\n",
       "      <td>0.0</td>\n",
       "      <td>0.0</td>\n",
       "      <td>0.0</td>\n",
       "      <td>0.0</td>\n",
       "      <td>0.0</td>\n",
       "      <td>0.0</td>\n",
       "      <td>0.0</td>\n",
       "      <td>0.0</td>\n",
       "      <td>...</td>\n",
       "      <td>0.0</td>\n",
       "      <td>0.0</td>\n",
       "      <td>0.0</td>\n",
       "      <td>0.0</td>\n",
       "      <td>0.0</td>\n",
       "      <td>0.0</td>\n",
       "      <td>0.0</td>\n",
       "      <td>0.0</td>\n",
       "      <td>0.0</td>\n",
       "      <td>0.0</td>\n",
       "    </tr>\n",
       "    <tr>\n",
       "      <th>...</th>\n",
       "      <td>...</td>\n",
       "      <td>...</td>\n",
       "      <td>...</td>\n",
       "      <td>...</td>\n",
       "      <td>...</td>\n",
       "      <td>...</td>\n",
       "      <td>...</td>\n",
       "      <td>...</td>\n",
       "      <td>...</td>\n",
       "      <td>...</td>\n",
       "      <td>...</td>\n",
       "      <td>...</td>\n",
       "      <td>...</td>\n",
       "      <td>...</td>\n",
       "      <td>...</td>\n",
       "      <td>...</td>\n",
       "      <td>...</td>\n",
       "      <td>...</td>\n",
       "      <td>...</td>\n",
       "      <td>...</td>\n",
       "      <td>...</td>\n",
       "    </tr>\n",
       "    <tr>\n",
       "      <th>2541</th>\n",
       "      <td>0.0</td>\n",
       "      <td>0.0</td>\n",
       "      <td>0.0</td>\n",
       "      <td>0.0</td>\n",
       "      <td>0.0</td>\n",
       "      <td>0.0</td>\n",
       "      <td>0.0</td>\n",
       "      <td>0.0</td>\n",
       "      <td>0.0</td>\n",
       "      <td>0.0</td>\n",
       "      <td>...</td>\n",
       "      <td>0.0</td>\n",
       "      <td>0.0</td>\n",
       "      <td>0.0</td>\n",
       "      <td>0.0</td>\n",
       "      <td>0.0</td>\n",
       "      <td>0.0</td>\n",
       "      <td>0.0</td>\n",
       "      <td>0.0</td>\n",
       "      <td>0.0</td>\n",
       "      <td>0.0</td>\n",
       "    </tr>\n",
       "    <tr>\n",
       "      <th>4750</th>\n",
       "      <td>0.0</td>\n",
       "      <td>0.0</td>\n",
       "      <td>0.0</td>\n",
       "      <td>0.0</td>\n",
       "      <td>0.0</td>\n",
       "      <td>0.0</td>\n",
       "      <td>0.0</td>\n",
       "      <td>0.0</td>\n",
       "      <td>0.0</td>\n",
       "      <td>0.0</td>\n",
       "      <td>...</td>\n",
       "      <td>0.0</td>\n",
       "      <td>0.0</td>\n",
       "      <td>0.0</td>\n",
       "      <td>0.0</td>\n",
       "      <td>0.0</td>\n",
       "      <td>0.0</td>\n",
       "      <td>0.0</td>\n",
       "      <td>0.0</td>\n",
       "      <td>0.0</td>\n",
       "      <td>0.0</td>\n",
       "    </tr>\n",
       "    <tr>\n",
       "      <th>1516</th>\n",
       "      <td>0.0</td>\n",
       "      <td>0.0</td>\n",
       "      <td>0.0</td>\n",
       "      <td>0.0</td>\n",
       "      <td>0.0</td>\n",
       "      <td>0.0</td>\n",
       "      <td>0.0</td>\n",
       "      <td>0.0</td>\n",
       "      <td>0.0</td>\n",
       "      <td>0.0</td>\n",
       "      <td>...</td>\n",
       "      <td>0.0</td>\n",
       "      <td>0.0</td>\n",
       "      <td>0.0</td>\n",
       "      <td>0.0</td>\n",
       "      <td>0.0</td>\n",
       "      <td>0.0</td>\n",
       "      <td>0.0</td>\n",
       "      <td>0.0</td>\n",
       "      <td>0.0</td>\n",
       "      <td>0.0</td>\n",
       "    </tr>\n",
       "    <tr>\n",
       "      <th>3724</th>\n",
       "      <td>0.0</td>\n",
       "      <td>0.0</td>\n",
       "      <td>0.0</td>\n",
       "      <td>0.0</td>\n",
       "      <td>0.0</td>\n",
       "      <td>0.0</td>\n",
       "      <td>0.0</td>\n",
       "      <td>0.0</td>\n",
       "      <td>0.0</td>\n",
       "      <td>0.0</td>\n",
       "      <td>...</td>\n",
       "      <td>0.0</td>\n",
       "      <td>0.0</td>\n",
       "      <td>0.0</td>\n",
       "      <td>0.0</td>\n",
       "      <td>0.0</td>\n",
       "      <td>0.0</td>\n",
       "      <td>0.0</td>\n",
       "      <td>0.0</td>\n",
       "      <td>0.0</td>\n",
       "      <td>0.0</td>\n",
       "    </tr>\n",
       "    <tr>\n",
       "      <th>2582</th>\n",
       "      <td>0.0</td>\n",
       "      <td>0.0</td>\n",
       "      <td>0.0</td>\n",
       "      <td>0.0</td>\n",
       "      <td>0.0</td>\n",
       "      <td>0.0</td>\n",
       "      <td>0.0</td>\n",
       "      <td>0.0</td>\n",
       "      <td>0.0</td>\n",
       "      <td>0.0</td>\n",
       "      <td>...</td>\n",
       "      <td>0.0</td>\n",
       "      <td>0.0</td>\n",
       "      <td>0.0</td>\n",
       "      <td>0.0</td>\n",
       "      <td>0.0</td>\n",
       "      <td>0.0</td>\n",
       "      <td>0.0</td>\n",
       "      <td>0.0</td>\n",
       "      <td>0.0</td>\n",
       "      <td>0.0</td>\n",
       "    </tr>\n",
       "  </tbody>\n",
       "</table>\n",
       "<p>1753 rows × 9297 columns</p>\n",
       "</div>"
      ],
      "text/plain": [
       "       aa  aal  aaland  aalto  aaltonen  aapl  aaron  aava  aazhang   ab  ...  \\\n",
       "2729  0.0  0.0     0.0    0.0       0.0   0.0    0.0   0.0      0.0  0.0  ...   \n",
       "2563  0.0  0.0     0.0    0.0       0.0   0.0    0.0   0.0      0.0  0.0  ...   \n",
       "1173  0.0  0.0     0.0    0.0       0.0   0.0    0.0   0.0      0.0  0.0  ...   \n",
       "170   0.0  0.0     0.0    0.0       0.0   0.0    0.0   0.0      0.0  0.0  ...   \n",
       "2548  0.0  0.0     0.0    0.0       0.0   0.0    0.0   0.0      0.0  0.0  ...   \n",
       "...   ...  ...     ...    ...       ...   ...    ...   ...      ...  ...  ...   \n",
       "2541  0.0  0.0     0.0    0.0       0.0   0.0    0.0   0.0      0.0  0.0  ...   \n",
       "4750  0.0  0.0     0.0    0.0       0.0   0.0    0.0   0.0      0.0  0.0  ...   \n",
       "1516  0.0  0.0     0.0    0.0       0.0   0.0    0.0   0.0      0.0  0.0  ...   \n",
       "3724  0.0  0.0     0.0    0.0       0.0   0.0    0.0   0.0      0.0  0.0  ...   \n",
       "2582  0.0  0.0     0.0    0.0       0.0   0.0    0.0   0.0      0.0  0.0  ...   \n",
       "\n",
       "      zone  zoo   zp  zsl  zte   zu  zurich  zwe  zwhthsvfsf   zy  \n",
       "2729   0.0  0.0  0.0  0.0  0.0  0.0     0.0  0.0         0.0  0.0  \n",
       "2563   0.0  0.0  0.0  0.0  0.0  0.0     0.0  0.0         0.0  0.0  \n",
       "1173   0.0  0.0  0.0  0.0  0.0  0.0     0.0  0.0         0.0  0.0  \n",
       "170    0.0  0.0  0.0  0.0  0.0  0.0     0.0  0.0         0.0  0.0  \n",
       "2548   0.0  0.0  0.0  0.0  0.0  0.0     0.0  0.0         0.0  0.0  \n",
       "...    ...  ...  ...  ...  ...  ...     ...  ...         ...  ...  \n",
       "2541   0.0  0.0  0.0  0.0  0.0  0.0     0.0  0.0         0.0  0.0  \n",
       "4750   0.0  0.0  0.0  0.0  0.0  0.0     0.0  0.0         0.0  0.0  \n",
       "1516   0.0  0.0  0.0  0.0  0.0  0.0     0.0  0.0         0.0  0.0  \n",
       "3724   0.0  0.0  0.0  0.0  0.0  0.0     0.0  0.0         0.0  0.0  \n",
       "2582   0.0  0.0  0.0  0.0  0.0  0.0     0.0  0.0         0.0  0.0  \n",
       "\n",
       "[1753 rows x 9297 columns]"
      ]
     },
     "execution_count": 37,
     "metadata": {},
     "output_type": "execute_result"
    }
   ],
   "source": [
    "X_test"
   ]
  },
  {
   "cell_type": "code",
   "execution_count": 45,
   "id": "d2081884",
   "metadata": {
    "papermill": {
     "duration": 0.081042,
     "end_time": "2022-03-04T09:54:12.177950",
     "exception": false,
     "start_time": "2022-03-04T09:54:12.096908",
     "status": "completed"
    },
    "tags": []
   },
   "outputs": [],
   "source": [
    "from sklearn.ensemble import RandomForestClassifier\n",
    "from sklearn.metrics import confusion_matrix\n",
    "from sklearn.metrics import classification_report\n",
    "import sklearn\n",
    "import seaborn as sb"
   ]
  },
  {
   "cell_type": "code",
   "execution_count": 46,
   "id": "1777f3d7-19c0-4023-890d-323561dd56ae",
   "metadata": {},
   "outputs": [],
   "source": [
    "clf=RandomForestClassifier(criterion='entropy',\n",
    "             n_estimators=100,max_depth=100, random_state=None,)"
   ]
  },
  {
   "cell_type": "code",
   "execution_count": 47,
   "id": "5293b1f7",
   "metadata": {
    "papermill": {
     "duration": 100.608476,
     "end_time": "2022-03-04T09:55:52.860826",
     "exception": false,
     "start_time": "2022-03-04T09:54:12.252350",
     "status": "completed"
    },
    "tags": []
   },
   "outputs": [
    {
     "data": {
      "text/plain": [
       "RandomForestClassifier(criterion='entropy', max_depth=100)"
      ]
     },
     "execution_count": 47,
     "metadata": {},
     "output_type": "execute_result"
    }
   ],
   "source": [
    "clf.fit(X_train,y_train)"
   ]
  },
  {
   "cell_type": "code",
   "execution_count": 48,
   "id": "4234eeaa",
   "metadata": {
    "papermill": {
     "duration": 9.469778,
     "end_time": "2022-03-04T09:56:02.405247",
     "exception": false,
     "start_time": "2022-03-04T09:55:52.935469",
     "status": "completed"
    },
    "tags": []
   },
   "outputs": [],
   "source": [
    "y_pred=clf.predict(X_test)"
   ]
  },
  {
   "cell_type": "code",
   "execution_count": 49,
   "id": "25e66783-c187-416a-9e5a-3ff7d47125fc",
   "metadata": {},
   "outputs": [
    {
     "name": "stdout",
     "output_type": "stream",
     "text": [
      "0.6246434683399886\n",
      "              precision    recall  f1-score   support\n",
      "\n",
      "           0       0.19      0.09      0.12       258\n",
      "           1       0.62      0.87      0.73       939\n",
      "           2       0.79      0.46      0.58       556\n",
      "\n",
      "    accuracy                           0.62      1753\n",
      "   macro avg       0.53      0.47      0.48      1753\n",
      "weighted avg       0.61      0.62      0.59      1753\n",
      "\n",
      "[[ 23 196  39]\n",
      " [ 94 817  28]\n",
      " [  6 295 255]]\n"
     ]
    },
    {
     "data": {
      "text/plain": [
       "<AxesSubplot:>"
      ]
     },
     "execution_count": 49,
     "metadata": {},
     "output_type": "execute_result"
    },
    {
     "data": {
      "image/png": "[encoded data removed]",
      "text/plain": [
       "<Figure size 432x288 with 2 Axes>"
      ]
     },
     "metadata": {
      "needs_background": "light"
     },
     "output_type": "display_data"
    }
   ],
   "source": [
    "accuracy=sklearn.metrics.accuracy_score(y_test, y_pred)\n",
    "print(accuracy)\n",
    "report = classification_report(y_test, y_pred)\n",
    "confMat = confusion_matrix(y_test, y_pred)\n",
    "print(report)\n",
    "print(confMat)\n",
    "plt.figure(figsize = (6,4))\n",
    "sb.heatmap(confMat, annot=True,)"
   ]
  },
  {
   "cell_type": "code",
   "execution_count": null,
   "id": "1f51510c-7f50-4455-b8a3-609383e0ee6f",
   "metadata": {},
   "outputs": [],
   "source": []
  }
 ],
 "metadata": {
  "kernelspec": {
   "display_name": "Python 3 (ipykernel)",
   "language": "python",
   "name": "python3"
  },
  "language_info": {
   "codemirror_mode": {
    "name": "ipython",
    "version": 3
   },
   "file_extension": ".py",
   "mimetype": "text/x-python",
   "name": "python",
   "nbconvert_exporter": "python",
   "pygments_lexer": "ipython3",
   "version": "3.9.7"
  },
  "papermill": {
   "default_parameters": {},
   "duration": 274.659003,
   "end_time": "2022-03-04T09:56:14.521204",
   "environment_variables": {},
   "exception": null,
   "input_path": "__notebook__.ipynb",
   "output_path": "__notebook__.ipynb",
   "parameters": {},
   "start_time": "2022-03-04T09:51:39.862201",
   "version": "2.3.3"
  }
 },
 "nbformat": 4,
 "nbformat_minor": 5
}
